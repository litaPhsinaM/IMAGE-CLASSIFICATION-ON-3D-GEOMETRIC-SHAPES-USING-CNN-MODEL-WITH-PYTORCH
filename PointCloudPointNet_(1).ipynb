{
  "nbformat": 4,
  "nbformat_minor": 0,
  "metadata": {
    "colab": {
      "provenance": [],
      "include_colab_link": true
    },
    "kernelspec": {
      "name": "python3",
      "display_name": "Python 3"
    },
    "language_info": {
      "name": "python"
    },
    "accelerator": "GPU",
    "gpuClass": "standard"
  },
  "cells": [
    {
      "cell_type": "markdown",
      "metadata": {
        "id": "view-in-github",
        "colab_type": "text"
      },
      "source": [
        "<a href=\"https://colab.research.google.com/github/litaPhsinaM/Object-Detection-on-VR_Manish-Patil/blob/main/PointCloudPointNet_(1).ipynb\" target=\"_parent\"><img src=\"https://colab.research.google.com/assets/colab-badge.svg\" alt=\"Open In Colab\"/></a>"
      ]
    },
    {
      "cell_type": "code",
      "source": [
        "!pip install trimesh\n",
        "import os\n",
        "import glob\n",
        "import trimesh\n",
        "import numpy as np\n",
        "import tensorflow as tf\n",
        "from tensorflow import keras\n",
        "from tensorflow.keras import layers\n",
        "from matplotlib import pyplot as plt\n",
        "\n",
        "tf.random.set_seed(1234)\n",
        "\n",
        "physical_devices = tf.config.experimental.list_physical_devices('GPU')\n",
        "print(\"GPU Available: \", len(physical_devices))\n",
        "tf.config.experimental.set_memory_growth(physical_devices[0], True)"
      ],
      "metadata": {
        "id": "C-cS1SxUr9oB",
        "colab": {
          "base_uri": "https://localhost:8080/"
        },
        "outputId": "e54453cf-e4fa-4cf7-83f2-c54b70da7175"
      },
      "execution_count": null,
      "outputs": [
        {
          "output_type": "stream",
          "name": "stdout",
          "text": [
            "Looking in indexes: https://pypi.org/simple, https://us-python.pkg.dev/colab-wheels/public/simple/\n",
            "Collecting trimesh\n",
            "  Downloading trimesh-3.21.5-py3-none-any.whl (680 kB)\n",
            "\u001b[2K     \u001b[90m━━━━━━━━━━━━━━━━━━━━━━━━━━━━━━━━━━━━━━\u001b[0m \u001b[32m680.8/680.8 kB\u001b[0m \u001b[31m11.2 MB/s\u001b[0m eta \u001b[36m0:00:00\u001b[0m\n",
            "\u001b[?25hRequirement already satisfied: numpy in /usr/local/lib/python3.9/dist-packages (from trimesh) (1.22.4)\n",
            "Installing collected packages: trimesh\n",
            "Successfully installed trimesh-3.21.5\n",
            "GPU Available:  1\n"
          ]
        }
      ]
    },
    {
      "cell_type": "code",
      "source": [
        "DATA_DIR = tf.keras.utils.get_file(\"ModelNet10\", \"https://drive.google.com/drive/folders/17isKXyOeWbtiBlE5Q_ldJ5aAT6zB0Hm0?usp=sharing\")\n",
        "DATA_DIR = os.path.join(os.path.dirname(DATA_DIR),\"ModelNet10\")"
      ],
      "metadata": {
        "id": "7AKesSqDwqF2",
        "colab": {
          "base_uri": "https://localhost:8080/"
        },
        "outputId": "c5037f22-9357-447e-a9ae-a16cfdb1063e"
      },
      "execution_count": null,
      "outputs": [
        {
          "output_type": "stream",
          "name": "stdout",
          "text": [
            "Downloading data from https://drive.google.com/drive/folders/17isKXyOeWbtiBlE5Q_ldJ5aAT6zB0Hm0?usp=sharing\n",
            "   8192/Unknown - 0s 0us/step"
          ]
        }
      ]
    },
    {
      "cell_type": "code",
      "source": [
        "mesh = trimesh.load(os.path.join(DATA_DIR,\"chair/train/chair_0001.off\"))\n",
        "mesh.show()"
      ],
      "metadata": {
        "colab": {
          "base_uri": "https://localhost:8080/",
          "height": 336
        },
        "id": "pMGRKPTB95uV",
        "outputId": "25540e53-cfaf-4b12-f70b-2f0ffb0eecca"
      },
      "execution_count": null,
      "outputs": [
        {
          "output_type": "error",
          "ename": "ValueError",
          "evalue": "ignored",
          "traceback": [
            "\u001b[0;31m---------------------------------------------------------------------------\u001b[0m",
            "\u001b[0;31mValueError\u001b[0m                                Traceback (most recent call last)",
            "\u001b[0;32m<ipython-input-4-0d2d3ef48a60>\u001b[0m in \u001b[0;36m<cell line: 1>\u001b[0;34m()\u001b[0m\n\u001b[0;32m----> 1\u001b[0;31m \u001b[0mmesh\u001b[0m \u001b[0;34m=\u001b[0m \u001b[0mtrimesh\u001b[0m\u001b[0;34m.\u001b[0m\u001b[0mload\u001b[0m\u001b[0;34m(\u001b[0m\u001b[0mos\u001b[0m\u001b[0;34m.\u001b[0m\u001b[0mpath\u001b[0m\u001b[0;34m.\u001b[0m\u001b[0mjoin\u001b[0m\u001b[0;34m(\u001b[0m\u001b[0mDATA_DIR\u001b[0m\u001b[0;34m,\u001b[0m\u001b[0;34m\"chair/train/chair_0001.off\"\u001b[0m\u001b[0;34m)\u001b[0m\u001b[0;34m)\u001b[0m\u001b[0;34m\u001b[0m\u001b[0;34m\u001b[0m\u001b[0m\n\u001b[0m\u001b[1;32m      2\u001b[0m \u001b[0mmesh\u001b[0m\u001b[0;34m.\u001b[0m\u001b[0mshow\u001b[0m\u001b[0;34m(\u001b[0m\u001b[0;34m)\u001b[0m\u001b[0;34m\u001b[0m\u001b[0;34m\u001b[0m\u001b[0m\n",
            "\u001b[0;32m/usr/local/lib/python3.9/dist-packages/trimesh/exchange/load.py\u001b[0m in \u001b[0;36mload\u001b[0;34m(file_obj, file_type, resolver, force, **kwargs)\u001b[0m\n\u001b[1;32m    114\u001b[0m      \u001b[0mopened\u001b[0m\u001b[0;34m,\u001b[0m    \u001b[0;31m# bool, did we open the file ourselves\u001b[0m\u001b[0;34m\u001b[0m\u001b[0;34m\u001b[0m\u001b[0m\n\u001b[1;32m    115\u001b[0m      \u001b[0mresolver\u001b[0m   \u001b[0;31m# object to load referenced resources\u001b[0m\u001b[0;34m\u001b[0m\u001b[0;34m\u001b[0m\u001b[0m\n\u001b[0;32m--> 116\u001b[0;31m      \u001b[0;34m)\u001b[0m \u001b[0;34m=\u001b[0m \u001b[0mparse_file_args\u001b[0m\u001b[0;34m(\u001b[0m\u001b[0mfile_obj\u001b[0m\u001b[0;34m=\u001b[0m\u001b[0mfile_obj\u001b[0m\u001b[0;34m,\u001b[0m\u001b[0;34m\u001b[0m\u001b[0;34m\u001b[0m\u001b[0m\n\u001b[0m\u001b[1;32m    117\u001b[0m                          \u001b[0mfile_type\u001b[0m\u001b[0;34m=\u001b[0m\u001b[0mfile_type\u001b[0m\u001b[0;34m,\u001b[0m\u001b[0;34m\u001b[0m\u001b[0;34m\u001b[0m\u001b[0m\n\u001b[1;32m    118\u001b[0m                          resolver=resolver)\n",
            "\u001b[0;32m/usr/local/lib/python3.9/dist-packages/trimesh/exchange/load.py\u001b[0m in \u001b[0;36mparse_file_args\u001b[0;34m(file_obj, file_type, resolver, **kwargs)\u001b[0m\n\u001b[1;32m    628\u001b[0m                     'use load_remote to load URL: {}'.format(file_obj))\n\u001b[1;32m    629\u001b[0m             \u001b[0;32melif\u001b[0m \u001b[0mfile_type\u001b[0m \u001b[0;32mis\u001b[0m \u001b[0;32mNone\u001b[0m\u001b[0;34m:\u001b[0m\u001b[0;34m\u001b[0m\u001b[0;34m\u001b[0m\u001b[0m\n\u001b[0;32m--> 630\u001b[0;31m                 \u001b[0;32mraise\u001b[0m \u001b[0mValueError\u001b[0m\u001b[0;34m(\u001b[0m\u001b[0;34m'string is not a file: {}'\u001b[0m\u001b[0;34m.\u001b[0m\u001b[0mformat\u001b[0m\u001b[0;34m(\u001b[0m\u001b[0mfile_obj\u001b[0m\u001b[0;34m)\u001b[0m\u001b[0;34m)\u001b[0m\u001b[0;34m\u001b[0m\u001b[0;34m\u001b[0m\u001b[0m\n\u001b[0m\u001b[1;32m    631\u001b[0m \u001b[0;34m\u001b[0m\u001b[0m\n\u001b[1;32m    632\u001b[0m     \u001b[0;32mif\u001b[0m \u001b[0mfile_type\u001b[0m \u001b[0;32mis\u001b[0m \u001b[0;32mNone\u001b[0m\u001b[0;34m:\u001b[0m\u001b[0;34m\u001b[0m\u001b[0;34m\u001b[0m\u001b[0m\n",
            "\u001b[0;31mValueError\u001b[0m: string is not a file: /root/.keras/datasets/ModelNet10/chair/train/chair_0001.off"
          ]
        }
      ]
    },
    {
      "cell_type": "code",
      "source": [
        "# Explore your VM\n",
        "!ls -la /\n",
        "# Find disk space and RAM space\n",
        "!df -h\n",
        "!free -m\n",
        "\n",
        "#What OS is your VM using:\n",
        "!cat /etc/os-release"
      ],
      "metadata": {
        "id": "BEFHSAk_FK8t",
        "colab": {
          "base_uri": "https://localhost:8080/"
        },
        "outputId": "a9ae8bf2-9555-4a4c-8796-da13c9df59ec"
      },
      "execution_count": null,
      "outputs": [
        {
          "output_type": "stream",
          "name": "stdout",
          "text": [
            "total 100\n",
            "drwxr-xr-x   1 root root  4096 Apr 24 14:44 .\n",
            "drwxr-xr-x   1 root root  4096 Apr 24 14:44 ..\n",
            "lrwxrwxrwx   1 root root     7 Jan 26 08:26 bin -> usr/bin\n",
            "drwxr-xr-x   2 root root  4096 Apr 15  2020 boot\n",
            "drwxr-xr-x   1 root root  4096 Apr 19 13:37 content\n",
            "drwxr-xr-x   1 root root  4096 Apr 19 13:50 datalab\n",
            "drwxr-xr-x   6 root root   460 Apr 24 14:44 dev\n",
            "-rwxr-xr-x   1 root root     0 Apr 24 14:44 .dockerenv\n",
            "drwxr-xr-x   1 root root  4096 Apr 24 14:44 etc\n",
            "drwxr-xr-x   2 root root  4096 Apr 15  2020 home\n",
            "lrwxrwxrwx   1 root root     7 Jan 26 08:26 lib -> usr/lib\n",
            "lrwxrwxrwx   1 root root     9 Jan 26 08:26 lib32 -> usr/lib32\n",
            "lrwxrwxrwx   1 root root     9 Jan 26 08:26 lib64 -> usr/lib64\n",
            "lrwxrwxrwx   1 root root    10 Jan 26 08:26 libx32 -> usr/libx32\n",
            "drwxr-xr-x   2 root root  4096 Jan 26 08:26 media\n",
            "drwxr-xr-x   2 root root  4096 Jan 26 08:26 mnt\n",
            "-rw-r--r--   1 root root 16047 Feb  2 05:18 NGC-DL-CONTAINER-LICENSE\n",
            "drwxr-xr-x   1 root root  4096 Apr 24 14:44 opt\n",
            "dr-xr-xr-x 201 root root     0 Apr 24 14:44 proc\n",
            "drwxr-xr-x  15 root root  4096 Apr 19 13:33 python-apt\n",
            "drwx------   1 root root  4096 Apr 19 13:51 root\n",
            "drwxr-xr-x   1 root root  4096 Apr 19 13:25 run\n",
            "lrwxrwxrwx   1 root root     8 Jan 26 08:26 sbin -> usr/sbin\n",
            "drwxr-xr-x   2 root root  4096 Jan 26 08:26 srv\n",
            "dr-xr-xr-x  13 root root     0 Apr 24 14:44 sys\n",
            "drwxrwxrwt   1 root root  4096 Apr 24 14:47 tmp\n",
            "drwxr-xr-x   1 root root  4096 Apr 19 13:50 tools\n",
            "drwxr-xr-x   1 root root  4096 Apr 24 14:44 usr\n",
            "drwxr-xr-x   1 root root  4096 Apr 19 13:50 var\n",
            "Filesystem      Size  Used Avail Use% Mounted on\n",
            "overlay          79G   38G   42G  48% /\n",
            "tmpfs            64M     0   64M   0% /dev\n",
            "shm             5.7G     0  5.7G   0% /dev/shm\n",
            "/dev/root       2.0G  1.1G  841M  58% /usr/sbin/docker-init\n",
            "/dev/sda1        77G   44G   34G  57% /opt/bin/.nvidia\n",
            "tmpfs           6.4G   40K  6.4G   1% /var/colab\n",
            "tmpfs           6.4G     0  6.4G   0% /proc/acpi\n",
            "tmpfs           6.4G     0  6.4G   0% /proc/scsi\n",
            "tmpfs           6.4G     0  6.4G   0% /sys/firmware\n",
            "              total        used        free      shared  buff/cache   available\n",
            "Mem:          12985         640        9148           1        3196       12066\n",
            "Swap:             0           0           0\n",
            "NAME=\"Ubuntu\"\n",
            "VERSION=\"20.04.5 LTS (Focal Fossa)\"\n",
            "ID=ubuntu\n",
            "ID_LIKE=debian\n",
            "PRETTY_NAME=\"Ubuntu 20.04.5 LTS\"\n",
            "VERSION_ID=\"20.04\"\n",
            "HOME_URL=\"https://www.ubuntu.com/\"\n",
            "SUPPORT_URL=\"https://help.ubuntu.com/\"\n",
            "BUG_REPORT_URL=\"https://bugs.launchpad.net/ubuntu/\"\n",
            "PRIVACY_POLICY_URL=\"https://www.ubuntu.com/legal/terms-and-policies/privacy-policy\"\n",
            "VERSION_CODENAME=focal\n",
            "UBUNTU_CODENAME=focal\n"
          ]
        }
      ]
    },
    {
      "cell_type": "code",
      "source": [
        "!ls  /root/.keras/datasets/"
      ],
      "metadata": {
        "colab": {
          "base_uri": "https://localhost:8080/"
        },
        "id": "o4v5y_h9u-wc",
        "outputId": "c06a162c-e013-450d-91f6-3c35257ef109"
      },
      "execution_count": null,
      "outputs": [
        {
          "output_type": "stream",
          "name": "stdout",
          "text": [
            "ls: cannot access '/root/.keras/datasets/': No such file or directory\n"
          ]
        }
      ]
    },
    {
      "cell_type": "code",
      "source": [],
      "metadata": {
        "id": "vppcKkfsvFif"
      },
      "execution_count": null,
      "outputs": []
    }
  ]
}